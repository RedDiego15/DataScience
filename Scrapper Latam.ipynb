{
 "cells": [
  {
   "cell_type": "code",
   "execution_count": 3,
   "metadata": {},
   "outputs": [],
   "source": [
    "import requests\n",
    "from bs4 import BeautifulSoup\n",
    "from requests.exceptions import HTTPError\n",
    "from urllib3.exceptions import MaxRetryError"
   ]
  },
  {
   "cell_type": "code",
   "execution_count": 8,
   "metadata": {},
   "outputs": [],
   "source": [
    "def visit(url):\n",
    "    try:\n",
    "        response = requests.get(url)\n",
    "        print(\"EL status code: \", response.status_code)\n",
    "        response.raise_for_status()  # arroja si la solicitud no se concluye correctamente\n",
    "        if(response.status_code == 200):\n",
    "            #response.request.header muestra la forma en como hago la solicitud\n",
    "            html = BeautifulSoup(response.text, 'html.parser')\n",
    "            return html\n",
    "    except HTTPError as http_err:\n",
    "        print(f'HTTP error occurred: {http_err}')  # Python 3.6\n",
    "    except MaxRetryError as Max_err:\n",
    "        print(f'HTTP error MaxEntry ocurred: {Max_err}')  # Python 3.6\n",
    "    except Exception as err:\n",
    "        print(f'Other error occurred: {err}')  # Python 3.6\n",
    "    return None"
   ]
  },
  {
   "cell_type": "code",
   "execution_count": 29,
   "metadata": {},
   "outputs": [
    {
     "name": "stdout",
     "output_type": "stream",
     "text": [
      "EL status code:  500\n",
      "HTTP error occurred: 500 Server Error: Internal Server Error for url: https://www.aa.com/booking/flights/choose-flights/flight1?bookingPathStateId=1600560113466-923\n"
     ]
    }
   ],
   "source": [
    "hmtl = visit('https://www.aa.com/booking/flights/choose-flights/flight1?bookingPathStateId=1600560113466-923') \n",
    "html"
   ]
  },
  {
   "cell_type": "code",
   "execution_count": null,
   "metadata": {},
   "outputs": [],
   "source": []
  }
 ],
 "metadata": {
  "kernelspec": {
   "display_name": "Python 3",
   "language": "python",
   "name": "python3"
  },
  "language_info": {
   "codemirror_mode": {
    "name": "ipython",
    "version": 3
   },
   "file_extension": ".py",
   "mimetype": "text/x-python",
   "name": "python",
   "nbconvert_exporter": "python",
   "pygments_lexer": "ipython3",
   "version": "3.8.3"
  }
 },
 "nbformat": 4,
 "nbformat_minor": 4
}
