{
 "cells": [
  {
   "cell_type": "code",
   "execution_count": 3,
   "metadata": {},
   "outputs": [],
   "source": [
    "import requests\n",
    "from bs4 import BeautifulSoup\n",
    "from requests.exceptions import HTTPError\n",
    "from urllib3.exceptions import MaxRetryError"
   ]
  },
  {
   "cell_type": "code",
   "execution_count": 8,
   "metadata": {},
   "outputs": [],
   "source": [
    "def visit(url):\n",
    "    try:\n",
    "        response = requests.get(url)\n",
    "        print(\"EL status code: \", response.status_code)\n",
    "        response.raise_for_status()  # arroja si la solicitud no se concluye correctamente\n",
    "        if(response.status_code == 200):\n",
    "            #response.request.header muestra la forma en como hago la solicitud\n",
    "            html = BeautifulSoup(response.text, 'html.parser')\n",
    "            return html\n",
    "    except HTTPError as http_err:\n",
    "        print(f'HTTP error occurred: {http_err}')  # Python 3.6\n",
    "    except MaxRetryError as Max_err:\n",
    "        print(f'HTTP error MaxEntry ocurred: {Max_err}')  # Python 3.6\n",
    "    except Exception as err:\n",
    "        print(f'Other error occurred: {err}')  # Python 3.6\n",
    "    return None"
   ]
  },
  {
   "cell_type": "code",
   "execution_count": 18,
   "metadata": {},
   "outputs": [
    {
     "name": "stdout",
     "output_type": "stream",
     "text": [
      "EL status code:  500\n",
      "HTTP error occurred: 500 Server Error: Internal Server Error for url: https://www.aa.com/booking/flights/choose-flights/flight1?bookingPathStateId=1600558478969-714\n"
     ]
    }
   ],
   "source": [
    "html = visit('https://www.latamairlines.com/ec/es/ofertas-vuelos?dataFlight=%7B%22tripTypeSelected%22%3A%7B%22label%22%3A%22Ida%22%2C%22value%22%3A%22OW%22%7D%2C%22cabinSelected%22%3A%7B%22label%22%3A%22Economy%22%2C%22value%22%3A%22Economy%22%7D%2C%22passengerSelected%22%3A%7B%22adultQuantity%22%3A1%2C%22infantQuantity%22%3A0%2C%22childrenQuantity%22%3A0%7D%2C%22originSelected%22%3A%7B%22airportName%22%3A%22Jos%C3%A9%20Joaqu%C3%ADn%20de%20Olmedo%20Int.%22%2C%22countryName%22%3A%22Ecuador%22%2C%22cityName%22%3A%22Guayaquil%22%2C%22airportIataCode%22%3A%22GYE%22%2C%22countryAlpha2%22%3A%22EC%22%7D%2C%22destinationSelected%22%3A%7B%22airportName%22%3A%22Mariscal%20Sucre%20Int.%22%2C%22countryName%22%3A%22Ecuador%22%2C%22cityName%22%3A%22Quito%22%2C%22airportIataCode%22%3A%22UIO%22%2C%22countryAlpha2%22%3A%22EC%22%7D%2C%22dateGoSelected%22%3A%222020-09-25T17%3A00%3A00.000Z%22%2C%22dateReturnSelected%22%3Anull%2C%22redemption%22%3Afalse%7D&sort=RECOMMENDED')\n",
    "html"
   ]
  }
 ],
 "metadata": {
  "kernelspec": {
   "display_name": "Python 3",
   "language": "python",
   "name": "python3"
  },
  "language_info": {
   "codemirror_mode": {
    "name": "ipython",
    "version": 3
   },
   "file_extension": ".py",
   "mimetype": "text/x-python",
   "name": "python",
   "nbconvert_exporter": "python",
   "pygments_lexer": "ipython3",
   "version": "3.8.3"
  }
 },
 "nbformat": 4,
 "nbformat_minor": 4
}
