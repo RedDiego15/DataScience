{
 "cells": [
  {
   "cell_type": "code",
   "execution_count": 2,
   "metadata": {},
   "outputs": [],
   "source": [
    "import requests\n",
    "from bs4 import BeautifulSoup\n",
    "from requests.exceptions import HTTPError\n",
    "from urllib3.exceptions import MaxRetryError"
   ]
  },
  {
   "cell_type": "code",
   "execution_count": 3,
   "metadata": {},
   "outputs": [],
   "source": [
    "def visit(url):\n",
    "    try:\n",
    "        response = requests.get(url)\n",
    "        print(\"EL status code: \", response.status_code)\n",
    "        response.raise_for_status()  # arroja si la solicitud no se concluye correctamente\n",
    "        if(response.status_code == 200):\n",
    "            #response.request.header muestra la forma en como hago la solicitud\n",
    "            html = BeautifulSoup(response.text, 'html.parser')\n",
    "            return html\n",
    "    except HTTPError as http_err:\n",
    "        print(f'HTTP error occurred: {http_err}')  # Python 3.6\n",
    "    except MaxRetryError as Max_err:\n",
    "        print(f'HTTP error MaxEntry ocurred: {Max_err}')  # Python 3.6\n",
    "    except Exception as err:\n",
    "        print(f'Other error occurred: {err}')  # Python 3.6\n",
    "    return None"
   ]
  },
  {
   "cell_type": "code",
   "execution_count": 159,
   "metadata": {},
   "outputs": [
    {
     "name": "stdout",
     "output_type": "stream",
     "text": [
      "EL status code:  200\n"
     ]
    }
   ],
   "source": [
    "url = 'https://www.latamairlines.com/ec/es/ofertas-vuelos?dataFlight=%7B%22tripTypeSelected%22%3A%7B%22label%22%3A%22Ida%22%2C%22value%22%3A%22OW%22%7D%2C%22cabinSelected%22%3A%7B%22label%22%3A%22Economy%22%2C%22value%22%3A%22Economy%22%7D%2C%22passengerSelected%22%3A%7B%22adultQuantity%22%3A1%2C%22infantQuantity%22%3A0%2C%22childrenQuantity%22%3A0%7D%2C%22originSelected%22%3A%7B%22airportName%22%3A%22Mariscal%20Sucre%20Int.%22%2C%22countryName%22%3A%22Ecuador%22%2C%22cityName%22%3A%22Quito%22%2C%22airportIataCode%22%3A%22UIO%22%2C%22countryAlpha2%22%3A%22EC%22%7D%2C%22destinationSelected%22%3A%7B%22airportName%22%3A%22Ministro%20Pistarini%20Int.%22%2C%22countryName%22%3A%22Argentina%22%2C%22cityName%22%3A%22Buenos%20Aires%22%2C%22airportIataCode%22%3A%22EZE%22%2C%22countryAlpha2%22%3A%22AR%22%7D%2C%22dateGoSelected%22%3A%222020-10-31T17%3A00%3A00.000Z%22%2C%22dateReturnSelected%22%3Anull%2C%22redemption%22%3Afalse%7D&sort=RECOMMENDED'\n",
    "htm = visit(url)"
   ]
  },
  {
   "cell_type": "code",
   "execution_count": 177,
   "metadata": {},
   "outputs": [],
   "source": [
    "from selenium import webdriver\n",
    "from selenium.webdriver.support.ui import WebDriverWait\n",
    "from selenium.webdriver.support import expected_conditions as Ec\n",
    "from selenium.webdriver.common.by import By\n",
    "from selenium.common.exceptions import TimeoutException\n"
   ]
  },
  {
   "cell_type": "code",
   "execution_count": null,
   "metadata": {},
   "outputs": [],
   "source": [
    "driver = webdriver.Edge(executable_path = 'D:/edgeDriver/msedgedriver')\n",
    "#driver abre otro navegador que podremos ejecutar desde el codigo\n",
    "\"\"\"hacer que el navegador cargue la pagina web\"\"\"\n",
    "driver.get(url)"
   ]
  },
  {
   "cell_type": "code",
   "execution_count": null,
   "metadata": {},
   "outputs": [],
   "source": [
    "#agregar demora dinamica para darle tiempo al navegador\n",
    "delay = 10 #maximo de tiempo a esperar\n",
    "try:\n",
    "    vuelo = WebDriverWait(driver,delay).until(Ec.presence_of_element_located((By.XPATH,'//li[@class=\"sc-jGFFOr jWBHtm\"]')))\n",
    "    print('la pagina termino de cargar')\n",
    "    scrapperLatam()\n",
    "except TimeoutException:\n",
    "    print('La pagina tardo demasiado en cargar')"
   ]
  },
  {
   "cell_type": "code",
   "execution_count": 123,
   "metadata": {},
   "outputs": [],
   "source": [
    "def getBasicFlyInfo(vuelo):\n",
    "    \n",
    "    dataFly = vuelo.find_elements_by_xpath('.//div[@class=\"sc-dPNhBE fEZYFJ flight-information\"]')\n",
    "    #el punto para indicar que solo busque desde donde me encuentro hacia abajo\n",
    "   #con las //le digo que la informacion no es un hijo directo de este vuelo\n",
    "    dicc={}\n",
    "    i=0\n",
    "    for data in dataFly:\n",
    "        hora = data.find_element_by_xpath('.//span[@class=\"sc-izvnbC hveHla\"]').text\n",
    "        \n",
    "       \n",
    "        if i:\n",
    "            lugarLlegada = data.find_element_by_xpath('//span[@class=\"sc-cbMPqi lfmmmk\"]').text\n",
    "            dicc[\"Llegada\"]=lugarLlegada\n",
    "            dicc['HoraLlegada']=hora\n",
    "            \n",
    "        else: \n",
    "            lugarSalida = data.find_element_by_xpath('//span[@class=\"sc-cbMPqi liUWFk\"]').text\n",
    "            dicc[\"Salida\"]=lugarSalida\n",
    "            dicc['HoraSalida']= hora\n",
    "        i+=1\n",
    "            \n",
    "            \n",
    "    duracion = vuelo.find_element_by_xpath('.//span[@class=\"sc-gMcBNU kUEpCT\"]').get_attribute('textContent')\n",
    "    dicc[\"Duracion\"]=duracion\n",
    "    return dicc\n",
    "\n",
    "    \n",
    "    \n"
   ]
  },
  {
   "cell_type": "code",
   "execution_count": 193,
   "metadata": {},
   "outputs": [],
   "source": [
    "def getInfoDepartureArrival(segmento):\n",
    "    \"\"\"method who add the data at in a dictionary for the scale per segment\n",
    "    [departurePlace,arrivalPlace,timeDeparture,timeArrival,duration,timeWaitAirport,flyNumber,airplaneNumber]\"\"\"\n",
    "    \n",
    "    WebDriverWait(driver,10).until(Ec.presence_of_element_located((By.XPATH,'//div[@class=\"sc-imapFV jQvkv\"]/span')))\n",
    "    \n",
    "    departureData = segmento.find_elements_by_xpath('.//div[@class=\"sc-jgVwMx guTIbo\"]/div[@class=\"iataCode\"]/span')\n",
    "    arrivalData = segmento.find_elements_by_xpath('.//div[@class=\"sc-AUpyg dvLpUb\"]/div[@class=\"iataCode\"]/span')\n",
    "    duration = segmento.find_elements_by_xpath('.//div[@class=\"sc-kWHCRG bZmbtE\"]/span')[1].text\n",
    "    timeWait = segmento.find_element_by_xpath('//div[@class=\"sc-imapFV jQvkv\"]/span').text    \n",
    "    flyNumber = segmento.find_element_by_xpath('.//div[@class=\"sc-dzOgQY cgKyuN airline-wrapper\"]').text\n",
    "    airplaneModel = segmento.find_element_by_xpath('.//span[@class=\"airplane-code\"]').text\n",
    "    print(\"DepartureData: \",departureData)\n",
    "    dicc = {\n",
    "        \"Departure\":departureData[0].text,\n",
    "        \"Arrival\":arrivalData[0].text,\n",
    "        \"TimeDeparture\":departureData[1].text,\n",
    "        \"TimeArrival\":arrivalData[1].text,\n",
    "        \"Duration\":duration,\n",
    "        \"TimeToWait\":timeWait,\n",
    "        \"FlyNumber\":flyNumber,\n",
    "        \"AirplaneModel\":airplaneModel\n",
    "    }\n",
    "    return dicc\n",
    "        \n",
    "    \n",
    "    "
   ]
  },
  {
   "cell_type": "code",
   "execution_count": 194,
   "metadata": {},
   "outputs": [],
   "source": [
    "def getInfoConectionFlys(segmentos):\n",
    "    l = []\n",
    "    WebDriverWait(driver,10).until(Ec.presence_of_element_located((By.XPATH,'//article[@class=\"sc-hCbubC CNDJE\"]')))\n",
    "    for segmento in segmentos:\n",
    "        l.append(getInfoDepartureArrival(segmento))\n",
    "    #cerramos la miniventana sobre las escalas\n",
    "    driver.find_element_by_xpath('//button[@class=\"MuiButtonBase-root MuiIconButton-root sc-jbKcbu icxyJV\"]').click()\n",
    "    return l"
   ]
  },
  {
   "cell_type": "code",
   "execution_count": 195,
   "metadata": {},
   "outputs": [],
   "source": [
    "def obtenerTarifas(vuelo):\n",
    "    print(\"Getting prices for the fligth\")\n",
    "    l=[]\n",
    "    vuelo.click()\n",
    "    tarifas = vuelo.find_elements_by_xpath('//ol[@class =\"sc-iBfVdv hZEqyB\"]/div')\n",
    "    for tar in tarifas:\n",
    "        plan = tar.find_element_by_xpath('.//span[@class = \"sc-hPeUyl lkBXZN\"]').text\n",
    "        precio = tar.find_element_by_xpath('.//span[@class = \"sc-jWxkHr bZLAFU\"]').text \n",
    "        currency = tar.find_element_by_xpath('.//span[@class = \"sc-dPPMrM cnZPMA\"]').text\n",
    "        dicc = {plan:{'Precio':precio,'Moneda':currency}}\n",
    "        l.append(dicc)\n",
    "    \n",
    "    vuelo.find_element_by_xpath('.//button[@class= \"sc-imDfJI jLHJeB\"]').click()\n",
    "    return l\n",
    "    \n",
    "    \n",
    "    \n",
    "   "
   ]
  },
  {
   "cell_type": "code",
   "execution_count": 196,
   "metadata": {
    "scrolled": true
   },
   "outputs": [
    {
     "name": "stdout",
     "output_type": "stream",
     "text": [
      "Getting prices for the fligth\n"
     ]
    },
    {
     "ename": "ElementClickInterceptedException",
     "evalue": "Message: element click intercepted: Element <li class=\"sc-jGFFOr jWBHtm\">...</li> is not clickable at point (328, 433). Other element would receive the click: <div class=\"MuiDialog-container MuiDialog-scrollPaper\" role=\"none presentation\" type=\"aside\" tabindex=\"-1\" style=\"transform: none; transition: transform 225ms cubic-bezier(0, 0, 0.2, 1) 0ms;\">...</div>\n  (Session info: MicrosoftEdge=85.0.564.51)\n",
     "output_type": "error",
     "traceback": [
      "\u001b[1;31m---------------------------------------------------------------------------\u001b[0m",
      "\u001b[1;31mElementClickInterceptedException\u001b[0m          Traceback (most recent call last)",
      "\u001b[1;32m<ipython-input-196-9639b1b6abe7>\u001b[0m in \u001b[0;36m<module>\u001b[1;34m\u001b[0m\n\u001b[1;32m----> 1\u001b[1;33m \u001b[0mobtenerTarifas\u001b[0m\u001b[1;33m(\u001b[0m\u001b[0mvuelo\u001b[0m\u001b[1;33m)\u001b[0m\u001b[1;33m\u001b[0m\u001b[1;33m\u001b[0m\u001b[0m\n\u001b[0m",
      "\u001b[1;32m<ipython-input-195-cf59945c93d2>\u001b[0m in \u001b[0;36mobtenerTarifas\u001b[1;34m(vuelo)\u001b[0m\n\u001b[0;32m      2\u001b[0m     \u001b[0mprint\u001b[0m\u001b[1;33m(\u001b[0m\u001b[1;34m\"Getting prices for the fligth\"\u001b[0m\u001b[1;33m)\u001b[0m\u001b[1;33m\u001b[0m\u001b[1;33m\u001b[0m\u001b[0m\n\u001b[0;32m      3\u001b[0m     \u001b[0ml\u001b[0m\u001b[1;33m=\u001b[0m\u001b[1;33m[\u001b[0m\u001b[1;33m]\u001b[0m\u001b[1;33m\u001b[0m\u001b[1;33m\u001b[0m\u001b[0m\n\u001b[1;32m----> 4\u001b[1;33m     \u001b[0mvuelo\u001b[0m\u001b[1;33m.\u001b[0m\u001b[0mclick\u001b[0m\u001b[1;33m(\u001b[0m\u001b[1;33m)\u001b[0m\u001b[1;33m\u001b[0m\u001b[1;33m\u001b[0m\u001b[0m\n\u001b[0m\u001b[0;32m      5\u001b[0m     \u001b[0mtarifas\u001b[0m \u001b[1;33m=\u001b[0m \u001b[0mvuelo\u001b[0m\u001b[1;33m.\u001b[0m\u001b[0mfind_elements_by_xpath\u001b[0m\u001b[1;33m(\u001b[0m\u001b[1;34m'//ol[@class =\"sc-iBfVdv hZEqyB\"]/div'\u001b[0m\u001b[1;33m)\u001b[0m\u001b[1;33m\u001b[0m\u001b[1;33m\u001b[0m\u001b[0m\n\u001b[0;32m      6\u001b[0m     \u001b[1;32mfor\u001b[0m \u001b[0mtar\u001b[0m \u001b[1;32min\u001b[0m \u001b[0mtarifas\u001b[0m\u001b[1;33m:\u001b[0m\u001b[1;33m\u001b[0m\u001b[1;33m\u001b[0m\u001b[0m\n",
      "\u001b[1;32m~\\anaconda3\\lib\\site-packages\\selenium\\webdriver\\remote\\webelement.py\u001b[0m in \u001b[0;36mclick\u001b[1;34m(self)\u001b[0m\n\u001b[0;32m     78\u001b[0m     \u001b[1;32mdef\u001b[0m \u001b[0mclick\u001b[0m\u001b[1;33m(\u001b[0m\u001b[0mself\u001b[0m\u001b[1;33m)\u001b[0m\u001b[1;33m:\u001b[0m\u001b[1;33m\u001b[0m\u001b[1;33m\u001b[0m\u001b[0m\n\u001b[0;32m     79\u001b[0m         \u001b[1;34m\"\"\"Clicks the element.\"\"\"\u001b[0m\u001b[1;33m\u001b[0m\u001b[1;33m\u001b[0m\u001b[0m\n\u001b[1;32m---> 80\u001b[1;33m         \u001b[0mself\u001b[0m\u001b[1;33m.\u001b[0m\u001b[0m_execute\u001b[0m\u001b[1;33m(\u001b[0m\u001b[0mCommand\u001b[0m\u001b[1;33m.\u001b[0m\u001b[0mCLICK_ELEMENT\u001b[0m\u001b[1;33m)\u001b[0m\u001b[1;33m\u001b[0m\u001b[1;33m\u001b[0m\u001b[0m\n\u001b[0m\u001b[0;32m     81\u001b[0m \u001b[1;33m\u001b[0m\u001b[0m\n\u001b[0;32m     82\u001b[0m     \u001b[1;32mdef\u001b[0m \u001b[0msubmit\u001b[0m\u001b[1;33m(\u001b[0m\u001b[0mself\u001b[0m\u001b[1;33m)\u001b[0m\u001b[1;33m:\u001b[0m\u001b[1;33m\u001b[0m\u001b[1;33m\u001b[0m\u001b[0m\n",
      "\u001b[1;32m~\\anaconda3\\lib\\site-packages\\selenium\\webdriver\\remote\\webelement.py\u001b[0m in \u001b[0;36m_execute\u001b[1;34m(self, command, params)\u001b[0m\n\u001b[0;32m    631\u001b[0m             \u001b[0mparams\u001b[0m \u001b[1;33m=\u001b[0m \u001b[1;33m{\u001b[0m\u001b[1;33m}\u001b[0m\u001b[1;33m\u001b[0m\u001b[1;33m\u001b[0m\u001b[0m\n\u001b[0;32m    632\u001b[0m         \u001b[0mparams\u001b[0m\u001b[1;33m[\u001b[0m\u001b[1;34m'id'\u001b[0m\u001b[1;33m]\u001b[0m \u001b[1;33m=\u001b[0m \u001b[0mself\u001b[0m\u001b[1;33m.\u001b[0m\u001b[0m_id\u001b[0m\u001b[1;33m\u001b[0m\u001b[1;33m\u001b[0m\u001b[0m\n\u001b[1;32m--> 633\u001b[1;33m         \u001b[1;32mreturn\u001b[0m \u001b[0mself\u001b[0m\u001b[1;33m.\u001b[0m\u001b[0m_parent\u001b[0m\u001b[1;33m.\u001b[0m\u001b[0mexecute\u001b[0m\u001b[1;33m(\u001b[0m\u001b[0mcommand\u001b[0m\u001b[1;33m,\u001b[0m \u001b[0mparams\u001b[0m\u001b[1;33m)\u001b[0m\u001b[1;33m\u001b[0m\u001b[1;33m\u001b[0m\u001b[0m\n\u001b[0m\u001b[0;32m    634\u001b[0m \u001b[1;33m\u001b[0m\u001b[0m\n\u001b[0;32m    635\u001b[0m     \u001b[1;32mdef\u001b[0m \u001b[0mfind_element\u001b[0m\u001b[1;33m(\u001b[0m\u001b[0mself\u001b[0m\u001b[1;33m,\u001b[0m \u001b[0mby\u001b[0m\u001b[1;33m=\u001b[0m\u001b[0mBy\u001b[0m\u001b[1;33m.\u001b[0m\u001b[0mID\u001b[0m\u001b[1;33m,\u001b[0m \u001b[0mvalue\u001b[0m\u001b[1;33m=\u001b[0m\u001b[1;32mNone\u001b[0m\u001b[1;33m)\u001b[0m\u001b[1;33m:\u001b[0m\u001b[1;33m\u001b[0m\u001b[1;33m\u001b[0m\u001b[0m\n",
      "\u001b[1;32m~\\anaconda3\\lib\\site-packages\\selenium\\webdriver\\remote\\webdriver.py\u001b[0m in \u001b[0;36mexecute\u001b[1;34m(self, driver_command, params)\u001b[0m\n\u001b[0;32m    319\u001b[0m         \u001b[0mresponse\u001b[0m \u001b[1;33m=\u001b[0m \u001b[0mself\u001b[0m\u001b[1;33m.\u001b[0m\u001b[0mcommand_executor\u001b[0m\u001b[1;33m.\u001b[0m\u001b[0mexecute\u001b[0m\u001b[1;33m(\u001b[0m\u001b[0mdriver_command\u001b[0m\u001b[1;33m,\u001b[0m \u001b[0mparams\u001b[0m\u001b[1;33m)\u001b[0m\u001b[1;33m\u001b[0m\u001b[1;33m\u001b[0m\u001b[0m\n\u001b[0;32m    320\u001b[0m         \u001b[1;32mif\u001b[0m \u001b[0mresponse\u001b[0m\u001b[1;33m:\u001b[0m\u001b[1;33m\u001b[0m\u001b[1;33m\u001b[0m\u001b[0m\n\u001b[1;32m--> 321\u001b[1;33m             \u001b[0mself\u001b[0m\u001b[1;33m.\u001b[0m\u001b[0merror_handler\u001b[0m\u001b[1;33m.\u001b[0m\u001b[0mcheck_response\u001b[0m\u001b[1;33m(\u001b[0m\u001b[0mresponse\u001b[0m\u001b[1;33m)\u001b[0m\u001b[1;33m\u001b[0m\u001b[1;33m\u001b[0m\u001b[0m\n\u001b[0m\u001b[0;32m    322\u001b[0m             response['value'] = self._unwrap_value(\n\u001b[0;32m    323\u001b[0m                 response.get('value', None))\n",
      "\u001b[1;32m~\\anaconda3\\lib\\site-packages\\selenium\\webdriver\\remote\\errorhandler.py\u001b[0m in \u001b[0;36mcheck_response\u001b[1;34m(self, response)\u001b[0m\n\u001b[0;32m    240\u001b[0m                 \u001b[0malert_text\u001b[0m \u001b[1;33m=\u001b[0m \u001b[0mvalue\u001b[0m\u001b[1;33m[\u001b[0m\u001b[1;34m'alert'\u001b[0m\u001b[1;33m]\u001b[0m\u001b[1;33m.\u001b[0m\u001b[0mget\u001b[0m\u001b[1;33m(\u001b[0m\u001b[1;34m'text'\u001b[0m\u001b[1;33m)\u001b[0m\u001b[1;33m\u001b[0m\u001b[1;33m\u001b[0m\u001b[0m\n\u001b[0;32m    241\u001b[0m             \u001b[1;32mraise\u001b[0m \u001b[0mexception_class\u001b[0m\u001b[1;33m(\u001b[0m\u001b[0mmessage\u001b[0m\u001b[1;33m,\u001b[0m \u001b[0mscreen\u001b[0m\u001b[1;33m,\u001b[0m \u001b[0mstacktrace\u001b[0m\u001b[1;33m,\u001b[0m \u001b[0malert_text\u001b[0m\u001b[1;33m)\u001b[0m\u001b[1;33m\u001b[0m\u001b[1;33m\u001b[0m\u001b[0m\n\u001b[1;32m--> 242\u001b[1;33m         \u001b[1;32mraise\u001b[0m \u001b[0mexception_class\u001b[0m\u001b[1;33m(\u001b[0m\u001b[0mmessage\u001b[0m\u001b[1;33m,\u001b[0m \u001b[0mscreen\u001b[0m\u001b[1;33m,\u001b[0m \u001b[0mstacktrace\u001b[0m\u001b[1;33m)\u001b[0m\u001b[1;33m\u001b[0m\u001b[1;33m\u001b[0m\u001b[0m\n\u001b[0m\u001b[0;32m    243\u001b[0m \u001b[1;33m\u001b[0m\u001b[0m\n\u001b[0;32m    244\u001b[0m     \u001b[1;32mdef\u001b[0m \u001b[0m_value_or_default\u001b[0m\u001b[1;33m(\u001b[0m\u001b[0mself\u001b[0m\u001b[1;33m,\u001b[0m \u001b[0mobj\u001b[0m\u001b[1;33m,\u001b[0m \u001b[0mkey\u001b[0m\u001b[1;33m,\u001b[0m \u001b[0mdefault\u001b[0m\u001b[1;33m)\u001b[0m\u001b[1;33m:\u001b[0m\u001b[1;33m\u001b[0m\u001b[1;33m\u001b[0m\u001b[0m\n",
      "\u001b[1;31mElementClickInterceptedException\u001b[0m: Message: element click intercepted: Element <li class=\"sc-jGFFOr jWBHtm\">...</li> is not clickable at point (328, 433). Other element would receive the click: <div class=\"MuiDialog-container MuiDialog-scrollPaper\" role=\"none presentation\" type=\"aside\" tabindex=\"-1\" style=\"transform: none; transition: transform 225ms cubic-bezier(0, 0, 0.2, 1) 0ms;\">...</div>\n  (Session info: MicrosoftEdge=85.0.564.51)\n"
     ]
    }
   ],
   "source": [
    "obtenerTarifas(vuelo)"
   ]
  },
  {
   "cell_type": "code",
   "execution_count": null,
   "metadata": {},
   "outputs": [],
   "source": [
    "def scrapperLatam():\n",
    "    vuelos = driver.find_elements_by_xpath('//li[@class=\"sc-jGFFOr jWBHtm\"]')\n",
    "    print(len(vuelos))\n",
    "    i=0\n",
    "    for vuelo in vuelos:\n",
    "        print(\"Starting Scrapper for fly: {}\".format(i))\n",
    "        print(getBasicFlyInfo(vuelo))\n",
    "        botonEscalas = vuelo.find_element_by_xpath('.//a[@class=\"sc-frDJqD dFTGrD\"]')\n",
    "        if botonEscalas!=None:\n",
    "            botonEscalas.click()\n",
    "            WebDriverWait(driver,10).until(Ec.presence_of_element_located((By.XPATH,'//section[@class=\"sc-kMBllD jaBnqa\"]')))\n",
    "            segmentos = vuelo.find_elements_by_xpath('//section[@class=\"sc-kMBllD jaBnqa\"]')\n",
    "            print(\"el len de segmentos: \",len(segmentos))\n",
    "            prueba = vuelo.find_elements_by_xpath('//section[@class=\"sc-hCbubC CNDJE\"]/section[@class=\"sc-kMBllD jaBnqa\"]')\n",
    "            print(\"el len de pruebas: \",len(prueba))\n",
    "            escalas = len(segmentos)-1\n",
    "            print(\"Scales you have to do: {}\".format(escalas))\n",
    "            print(\"Scales Information\")\n",
    "            print(getInfoConectionFlys(segmentos))\n",
    "        print(obtenerTarifas(vuelo))\n",
    "    \n",
    "    driver.close()\n",
    "            \n",
    "        \n",
    "    "
   ]
  },
  {
   "cell_type": "code",
   "execution_count": null,
   "metadata": {},
   "outputs": [],
   "source": []
  }
 ],
 "metadata": {
  "kernelspec": {
   "display_name": "Python 3",
   "language": "python",
   "name": "python3"
  },
  "language_info": {
   "codemirror_mode": {
    "name": "ipython",
    "version": 3
   },
   "file_extension": ".py",
   "mimetype": "text/x-python",
   "name": "python",
   "nbconvert_exporter": "python",
   "pygments_lexer": "ipython3",
   "version": "3.8.3"
  }
 },
 "nbformat": 4,
 "nbformat_minor": 4
}
