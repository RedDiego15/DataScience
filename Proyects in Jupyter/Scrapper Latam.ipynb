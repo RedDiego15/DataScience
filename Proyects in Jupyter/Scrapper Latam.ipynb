{
 "cells": [
  {
   "cell_type": "code",
   "execution_count": 3,
   "metadata": {},
   "outputs": [],
   "source": [
    "import requests\n",
    "from bs4 import BeautifulSoup\n",
    "from requests.exceptions import HTTPError\n",
    "from urllib3.exceptions import MaxRetryError"
   ]
  },
  {
   "cell_type": "code",
   "execution_count": 4,
   "metadata": {},
   "outputs": [],
   "source": [
    "def visit(url):\n",
    "    try:\n",
    "        response = requests.get(url)\n",
    "        print(\"EL status code: \", response.status_code)\n",
    "        response.raise_for_status()  # arroja si la solicitud no se concluye correctamente\n",
    "        if(response.status_code == 200):\n",
    "            #response.request.header muestra la forma en como hago la solicitud\n",
    "            html = BeautifulSoup(response.text, 'html.parser')\n",
    "            return html\n",
    "    except HTTPError as http_err:\n",
    "        print(f'HTTP error occurred: {http_err}')  # Python 3.6\n",
    "    except MaxRetryError as Max_err:\n",
    "        print(f'HTTP error MaxEntry ocurred: {Max_err}')  # Python 3.6\n",
    "    except Exception as err:\n",
    "        print(f'Other error occurred: {err}')  # Python 3.6\n",
    "    return None"
   ]
  },
  {
   "cell_type": "code",
   "execution_count": 5,
   "metadata": {},
   "outputs": [
    {
     "name": "stdout",
     "output_type": "stream",
     "text": [
      "EL status code:  200\n"
     ]
    }
   ],
   "source": [
    "url = 'https://www.latamairlines.com/ec/es/ofertas-vuelos?dataFlight=%7B%22tripTypeSelected%22%3A%7B%22label%22%3A%22Ida%22%2C%22value%22%3A%22OW%22%7D%2C%22cabinSelected%22%3A%7B%22label%22%3A%22Economy%22%2C%22value%22%3A%22Economy%22%7D%2C%22passengerSelected%22%3A%7B%22adultQuantity%22%3A1%2C%22infantQuantity%22%3A0%2C%22childrenQuantity%22%3A0%7D%2C%22originSelected%22%3A%7B%22airportName%22%3A%22Mariscal%20Sucre%20Int.%22%2C%22countryName%22%3A%22Ecuador%22%2C%22cityName%22%3A%22Quito%22%2C%22airportIataCode%22%3A%22UIO%22%2C%22countryAlpha2%22%3A%22EC%22%7D%2C%22destinationSelected%22%3A%7B%22airportName%22%3A%22Ministro%20Pistarini%20Int.%22%2C%22countryName%22%3A%22Argentina%22%2C%22cityName%22%3A%22Buenos%20Aires%22%2C%22airportIataCode%22%3A%22EZE%22%2C%22countryAlpha2%22%3A%22AR%22%7D%2C%22dateGoSelected%22%3A%222020-10-31T17%3A00%3A00.000Z%22%2C%22dateReturnSelected%22%3Anull%2C%22redemption%22%3Afalse%7D&sort=RECOMMENDED'\n",
    "htm = visit(url)"
   ]
  },
  {
   "cell_type": "code",
   "execution_count": 6,
   "metadata": {},
   "outputs": [],
   "source": [
    "from selenium import webdriver\n",
    "from selenium.webdriver.support.ui import WebDriverWait\n",
    "from selenium.webdriver.support import expected_conditions as Ec\n",
    "from selenium.webdriver.common.by import By\n",
    "from selenium.common.exceptions import TimeoutException\n"
   ]
  },
  {
   "cell_type": "code",
   "execution_count": 14,
   "metadata": {},
   "outputs": [],
   "source": [
    "driver = webdriver.Edge(executable_path = 'D:/edgeDriver/msedgedriver')\n",
    "#driver abre otro navegador que podremos ejecutar desde el codigo\n",
    "\"\"\"hacer que el navegador cargue la pagina web\"\"\"\n",
    "driver.get(url)"
   ]
  },
  {
   "cell_type": "code",
   "execution_count": 15,
   "metadata": {},
   "outputs": [
    {
     "name": "stdout",
     "output_type": "stream",
     "text": [
      "la pagina termino de cargar\n",
      "7\n",
      "Starting Scrapper for fly: 0\n",
      "{'Salida': 'UIO', 'HoraSalida': '17:56', 'Llegada': 'EZE', 'HoraLlegada': '6:52', 'Duracion': '10 h 56 min'}\n",
      "el len de segmentos:  2\n",
      "el len de pruebas:  0\n",
      "Scales you have to do: 1\n",
      "Scales Information\n",
      "DepartureData:  [<selenium.webdriver.remote.webelement.WebElement (session=\"80c021fcfa40b6f58a1b054e73e86854\", element=\"a2476950-50b4-4167-bba5-92fd88c4fb33\")>, <selenium.webdriver.remote.webelement.WebElement (session=\"80c021fcfa40b6f58a1b054e73e86854\", element=\"e053a2c1-e61b-418e-b499-941622fbe5f4\")>]\n",
      "DepartureData:  [<selenium.webdriver.remote.webelement.WebElement (session=\"80c021fcfa40b6f58a1b054e73e86854\", element=\"16eaa671-3eca-424c-935f-0970efa56bbb\")>, <selenium.webdriver.remote.webelement.WebElement (session=\"80c021fcfa40b6f58a1b054e73e86854\", element=\"10c3ab96-44db-43e8-ba4e-937e9ba3a6ba\")>]\n",
      "[{'Departure': 'UIO', 'Arrival': 'LIM', 'TimeDeparture': '17:56', 'TimeArrival': '20:10', 'Duration': '2 h 14 min', 'TimeToWait': '4 h 20 min', 'FlyNumber': 'LA2439', 'AirplaneModel': 'Airbus A319'}, {'Departure': 'LIM', 'Arrival': 'EZE', 'TimeDeparture': '0:30', 'TimeArrival': '6:52', 'Duration': '4 h 22 min', 'TimeToWait': '4 h 20 min', 'FlyNumber': 'LA2475', 'AirplaneModel': 'Airbus A320'}]\n",
      "Getting prices for the fligth\n",
      "[{'basic': {'Precio': '$400,15', 'Moneda': 'USD'}}, {'light': {'Precio': '$414,71', 'Moneda': 'USD'}}, {'plus': {'Precio': '$435,99', 'Moneda': 'USD'}}, {'top': {'Precio': '$470,71', 'Moneda': 'USD'}}]\n",
      "Starting Scrapper for fly: 0\n",
      "{'Salida': 'UIO', 'HoraSalida': '17:56', 'Llegada': 'EZE', 'HoraLlegada': '14:45', 'Duracion': '18 h 49 min'}\n",
      "el len de segmentos:  1\n",
      "el len de pruebas:  0\n",
      "Scales you have to do: 0\n",
      "Scales Information\n",
      "DepartureData:  [<selenium.webdriver.remote.webelement.WebElement (session=\"80c021fcfa40b6f58a1b054e73e86854\", element=\"29aa08cf-98db-48a2-b420-a1b4166d137b\")>, <selenium.webdriver.remote.webelement.WebElement (session=\"80c021fcfa40b6f58a1b054e73e86854\", element=\"c7f1c656-3f32-4a4b-841f-a858f2315b5f\")>]\n",
      "[{'Departure': 'UIO', 'Arrival': 'LIM', 'TimeDeparture': '17:56', 'TimeArrival': '20:10', 'Duration': '2 h 14 min', 'TimeToWait': '12 h 15 min', 'FlyNumber': 'LA2439', 'AirplaneModel': 'Airbus A319'}]\n",
      "Getting prices for the fligth\n",
      "[{'plus': {'Precio': '$597,27', 'Moneda': 'USD'}}, {'top': {'Precio': '$470,71', 'Moneda': 'USD'}}]\n",
      "Starting Scrapper for fly: 0\n",
      "{'Salida': 'UIO', 'HoraSalida': '17:56', 'Llegada': 'EZE', 'HoraLlegada': '10:27', 'Duracion': '14 h 31 min'}\n",
      "el len de segmentos:  1\n",
      "el len de pruebas:  0\n",
      "Scales you have to do: 0\n",
      "Scales Information\n",
      "DepartureData:  [<selenium.webdriver.remote.webelement.WebElement (session=\"80c021fcfa40b6f58a1b054e73e86854\", element=\"81b9cdf1-1713-44bd-b0f0-12bc051e78c0\")>, <selenium.webdriver.remote.webelement.WebElement (session=\"80c021fcfa40b6f58a1b054e73e86854\", element=\"2173852f-733e-45e6-b5b9-0abaaa908c72\")>]\n",
      "[{'Departure': 'UIO', 'Arrival': 'LIM', 'TimeDeparture': '17:56', 'TimeArrival': '20:10', 'Duration': '2 h 14 min', 'TimeToWait': '4 h 35 min', 'FlyNumber': 'LA2439', 'AirplaneModel': 'Airbus A319'}]\n",
      "Getting prices for the fligth\n",
      "[{'basic': {'Precio': '$400,15', 'Moneda': 'USD'}}, {'light': {'Precio': '$414,71', 'Moneda': 'USD'}}, {'plus': {'Precio': '$435,99', 'Moneda': 'USD'}}, {'top': {'Precio': '$470,71', 'Moneda': 'USD'}}]\n",
      "Starting Scrapper for fly: 0\n",
      "{'Salida': 'UIO', 'HoraSalida': '17:56', 'Llegada': 'EZE', 'HoraLlegada': '17:56\\n+1', 'Duracion': '22 h'}\n",
      "el len de segmentos:  1\n",
      "el len de pruebas:  0\n",
      "Scales you have to do: 0\n",
      "Scales Information\n",
      "DepartureData:  [<selenium.webdriver.remote.webelement.WebElement (session=\"80c021fcfa40b6f58a1b054e73e86854\", element=\"fcfaae8e-0628-4d8c-8949-f4eb45417b17\")>, <selenium.webdriver.remote.webelement.WebElement (session=\"80c021fcfa40b6f58a1b054e73e86854\", element=\"e086b990-f815-4972-8b2d-c4cea0552cfb\")>]\n",
      "[{'Departure': 'UIO', 'Arrival': 'LIM', 'TimeDeparture': '17:56', 'TimeArrival': '20:10', 'Duration': '2 h 14 min', 'TimeToWait': '4 h 35 min', 'FlyNumber': 'LA2439', 'AirplaneModel': 'Airbus A319'}]\n",
      "Getting prices for the fligth\n",
      "[{'basic': {'Precio': '$400,15', 'Moneda': 'USD'}}, {'light': {'Precio': '$414,71', 'Moneda': 'USD'}}, {'plus': {'Precio': '$435,99', 'Moneda': 'USD'}}, {'top': {'Precio': '$470,71', 'Moneda': 'USD'}}]\n",
      "Starting Scrapper for fly: 0\n",
      "{'Salida': 'UIO', 'HoraSalida': '17:56', 'Llegada': 'EZE', 'HoraLlegada': '19:57\\n+1', 'Duracion': '1 día'}\n",
      "el len de segmentos:  1\n",
      "el len de pruebas:  0\n",
      "Scales you have to do: 0\n",
      "Scales Information\n",
      "DepartureData:  [<selenium.webdriver.remote.webelement.WebElement (session=\"80c021fcfa40b6f58a1b054e73e86854\", element=\"7261e943-214b-4ebc-a91f-9af573929d28\")>, <selenium.webdriver.remote.webelement.WebElement (session=\"80c021fcfa40b6f58a1b054e73e86854\", element=\"04a2c8e2-9cb3-4546-9121-58f394dc62aa\")>]\n",
      "[{'Departure': 'UIO', 'Arrival': 'LIM', 'TimeDeparture': '17:56', 'TimeArrival': '20:10', 'Duration': '2 h 14 min', 'TimeToWait': '4 h 35 min', 'FlyNumber': 'LA2439', 'AirplaneModel': 'Airbus A319'}]\n",
      "Getting prices for the fligth\n",
      "[{'basic': {'Precio': '$400,15', 'Moneda': 'USD'}}, {'light': {'Precio': '$414,71', 'Moneda': 'USD'}}, {'plus': {'Precio': '$435,99', 'Moneda': 'USD'}}, {'top': {'Precio': '$470,71', 'Moneda': 'USD'}}]\n",
      "Starting Scrapper for fly: 0\n",
      "{'Salida': 'UIO', 'HoraSalida': '17:56', 'Llegada': 'EZE', 'HoraLlegada': '17:56\\n+1', 'Duracion': '22 h'}\n",
      "el len de segmentos:  1\n",
      "el len de pruebas:  0\n",
      "Scales you have to do: 0\n",
      "Scales Information\n",
      "DepartureData:  [<selenium.webdriver.remote.webelement.WebElement (session=\"80c021fcfa40b6f58a1b054e73e86854\", element=\"9cbbce2f-2aef-4155-bcb5-8c2cd0e83f87\")>, <selenium.webdriver.remote.webelement.WebElement (session=\"80c021fcfa40b6f58a1b054e73e86854\", element=\"20211b36-9d6b-4465-b743-c0bd1afdf831\")>]\n",
      "[{'Departure': 'UIO', 'Arrival': 'LIM', 'TimeDeparture': '17:56', 'TimeArrival': '20:10', 'Duration': '2 h 14 min', 'TimeToWait': '4 h 5 min', 'FlyNumber': 'LA2439', 'AirplaneModel': 'Airbus A319'}]\n",
      "Getting prices for the fligth\n",
      "[{'basic': {'Precio': '$400,15', 'Moneda': 'USD'}}, {'plus': {'Precio': '$435,99', 'Moneda': 'USD'}}, {'top': {'Precio': '$470,71', 'Moneda': 'USD'}}]\n",
      "Starting Scrapper for fly: 0\n",
      "{'Salida': 'UIO', 'HoraSalida': '17:56', 'Llegada': 'EZE', 'HoraLlegada': '19:57\\n+1', 'Duracion': '1 día'}\n",
      "el len de segmentos:  1\n",
      "el len de pruebas:  0\n",
      "Scales you have to do: 0\n",
      "Scales Information\n",
      "DepartureData:  [<selenium.webdriver.remote.webelement.WebElement (session=\"80c021fcfa40b6f58a1b054e73e86854\", element=\"ab2e68cd-c05c-4d2b-ae38-c768228df633\")>, <selenium.webdriver.remote.webelement.WebElement (session=\"80c021fcfa40b6f58a1b054e73e86854\", element=\"e11b0659-15b2-4495-9833-421608c76da9\")>]\n",
      "[{'Departure': 'UIO', 'Arrival': 'LIM', 'TimeDeparture': '17:56', 'TimeArrival': '20:10', 'Duration': '2 h 14 min', 'TimeToWait': '4 h 5 min', 'FlyNumber': 'LA2439', 'AirplaneModel': 'Airbus A319'}]\n",
      "Getting prices for the fligth\n",
      "[{'basic': {'Precio': '$400,15', 'Moneda': 'USD'}}, {'plus': {'Precio': '$435,99', 'Moneda': 'USD'}}, {'top': {'Precio': '$470,71', 'Moneda': 'USD'}}]\n"
     ]
    }
   ],
   "source": [
    "#agregar demora dinamica para darle tiempo al navegador\n",
    "delay = 10 #maximo de tiempo a esperar\n",
    "try:\n",
    "    vuelo = WebDriverWait(driver,delay).until(Ec.presence_of_element_located((By.XPATH,'//li[@class=\"sc-jGFFOr jWBHtm\"]')))\n",
    "    print('la pagina termino de cargar')\n",
    "    scrapperLatam()\n",
    "except TimeoutException:\n",
    "    print('La pagina tardo demasiado en cargar')"
   ]
  },
  {
   "cell_type": "code",
   "execution_count": 9,
   "metadata": {},
   "outputs": [],
   "source": [
    "def getBasicFlyInfo(vuelo):\n",
    "    \n",
    "    dataFly = vuelo.find_elements_by_xpath('.//div[@class=\"sc-dPNhBE fEZYFJ flight-information\"]')\n",
    "    #el punto para indicar que solo busque desde donde me encuentro hacia abajo\n",
    "   #con las //le digo que la informacion no es un hijo directo de este vuelo\n",
    "    dicc={}\n",
    "    i=0\n",
    "    for data in dataFly:\n",
    "        hora = data.find_element_by_xpath('.//span[@class=\"sc-izvnbC hveHla\"]').text\n",
    "        \n",
    "       \n",
    "        if i:\n",
    "            lugarLlegada = data.find_element_by_xpath('//span[@class=\"sc-cbMPqi lfmmmk\"]').text\n",
    "            dicc[\"Llegada\"]=lugarLlegada\n",
    "            dicc['HoraLlegada']=hora\n",
    "            \n",
    "        else: \n",
    "            lugarSalida = data.find_element_by_xpath('//span[@class=\"sc-cbMPqi liUWFk\"]').text\n",
    "            dicc[\"Salida\"]=lugarSalida\n",
    "            dicc['HoraSalida']= hora\n",
    "        i+=1\n",
    "            \n",
    "            \n",
    "    duracion = vuelo.find_element_by_xpath('.//span[@class=\"sc-gMcBNU kUEpCT\"]').get_attribute('textContent')\n",
    "    dicc[\"Duracion\"]=duracion\n",
    "    return dicc\n",
    "\n",
    "    \n",
    "    \n"
   ]
  },
  {
   "cell_type": "code",
   "execution_count": 10,
   "metadata": {},
   "outputs": [],
   "source": [
    "def getInfoDepartureArrival(segmento):\n",
    "    \"\"\"method who add the data at in a dictionary for the scale per segment\n",
    "    [departurePlace,arrivalPlace,timeDeparture,timeArrival,duration,timeWaitAirport,flyNumber,airplaneNumber]\"\"\"\n",
    "    \n",
    "    WebDriverWait(driver,10).until(Ec.presence_of_element_located((By.XPATH,'//div[@class=\"sc-imapFV jQvkv\"]/span')))\n",
    "    \n",
    "    departureData = segmento.find_elements_by_xpath('.//div[@class=\"sc-jgVwMx guTIbo\"]/div[@class=\"iataCode\"]/span')\n",
    "    arrivalData = segmento.find_elements_by_xpath('.//div[@class=\"sc-AUpyg dvLpUb\"]/div[@class=\"iataCode\"]/span')\n",
    "    duration = segmento.find_elements_by_xpath('.//div[@class=\"sc-kWHCRG bZmbtE\"]/span')[1].text\n",
    "    timeWait = segmento.find_element_by_xpath('//div[@class=\"sc-imapFV jQvkv\"]/span').text    \n",
    "    flyNumber = segmento.find_element_by_xpath('.//div[@class=\"sc-dzOgQY cgKyuN airline-wrapper\"]').text\n",
    "    airplaneModel = segmento.find_element_by_xpath('.//span[@class=\"airplane-code\"]').text\n",
    "    dicc = {\n",
    "        \"Departure\":departureData[0].text,\n",
    "        \"Arrival\":arrivalData[0].text,\n",
    "        \"TimeDeparture\":departureData[1].text,\n",
    "        \"TimeArrival\":arrivalData[1].text,\n",
    "        \"Duration\":duration,\n",
    "        \"TimeToWait\":timeWait,\n",
    "        \"FlyNumber\":flyNumber,\n",
    "        \"AirplaneModel\":airplaneModel\n",
    "    }\n",
    "    return dicc\n",
    "        \n",
    "    \n",
    "    "
   ]
  },
  {
   "cell_type": "code",
   "execution_count": 11,
   "metadata": {},
   "outputs": [],
   "source": [
    "def getInfoConectionFlys(segmentos):\n",
    "    l = []\n",
    "    WebDriverWait(driver,10).until(Ec.presence_of_element_located((By.XPATH,'//article[@class=\"sc-hCbubC CNDJE\"]')))\n",
    "    for segmento in segmentos:\n",
    "        l.append(getInfoDepartureArrival(segmento))\n",
    "    #cerramos la miniventana sobre las escalas\n",
    "    driver.find_element_by_xpath('//button[@class=\"MuiButtonBase-root MuiIconButton-root sc-jbKcbu icxyJV\"]').click()\n",
    "    return l"
   ]
  },
  {
   "cell_type": "code",
   "execution_count": 12,
   "metadata": {},
   "outputs": [],
   "source": [
    "def obtenerTarifas(vuelo):\n",
    "    print(\"Getting prices for the fligth\")\n",
    "    l=[]\n",
    "    vuelo.click()\n",
    "    tarifas = vuelo.find_elements_by_xpath('//ol[@class =\"sc-iBfVdv hZEqyB\"]/div')\n",
    "    for tar in tarifas:\n",
    "        plan = tar.find_element_by_xpath('.//span[@class = \"sc-hPeUyl lkBXZN\"]').text\n",
    "        precio = tar.find_element_by_xpath('.//span[@class = \"sc-jWxkHr bZLAFU\"]').text \n",
    "        currency = tar.find_element_by_xpath('.//span[@class = \"sc-dPPMrM cnZPMA\"]').text\n",
    "        dicc = {plan:{'Precio':precio,'Moneda':currency}}\n",
    "        l.append(dicc)\n",
    "    \n",
    "    vuelo.find_element_by_xpath('.//button[@class= \"sc-imDfJI jLHJeB\"]').click()\n",
    "    return l\n",
    "    \n",
    "    \n",
    "    \n",
    "   "
   ]
  },
  {
   "cell_type": "code",
   "execution_count": 13,
   "metadata": {},
   "outputs": [],
   "source": [
    "def scrapperLatam():\n",
    "    vuelos = driver.find_elements_by_xpath('//li[@class=\"sc-jGFFOr jWBHtm\"]')\n",
    "    print(len(vuelos))\n",
    "    i=1\n",
    "    for vuelo in vuelos:\n",
    "        print(\"Starting Scrapper for fly: {}\".format(i))\n",
    "        print(getBasicFlyInfo(vuelo))\n",
    "        botonEscalas = vuelo.find_element_by_xpath('.//a[@class=\"sc-frDJqD dFTGrD\"]')\n",
    "        if botonEscalas!=None:\n",
    "            botonEscalas.click()\n",
    "            WebDriverWait(driver,10).until(Ec.presence_of_element_located((By.XPATH,'//section[@class=\"sc-kMBllD jaBnqa\"]')))\n",
    "            segmentos = vuelo.find_elements_by_xpath('//section[@class=\"sc-kMBllD jaBnqa\"]')\n",
    "            print(\"el len de segmentos: \",len(segmentos))\n",
    "            prueba = vuelo.find_elements_by_xpath('//section[@class=\"sc-hCbubC CNDJE\"]/section[@class=\"sc-kMBllD jaBnqa\"]')\n",
    "            print(\"el len de pruebas: \",len(prueba))\n",
    "            escalas = len(segmentos)-1\n",
    "            print(\"Scales you have to do: {}\".format(escalas))\n",
    "            print(\"Scales Information\")\n",
    "            print(getInfoConectionFlys(segmentos))\n",
    "        print(obtenerTarifas(vuelo))\n",
    "        i+=1\n",
    "    \n",
    "    driver.close()\n",
    "            \n",
    "        \n",
    "    "
   ]
  },
  {
   "cell_type": "code",
   "execution_count": null,
   "metadata": {},
   "outputs": [],
   "source": []
  }
 ],
 "metadata": {
  "kernelspec": {
   "display_name": "Python 3",
   "language": "python",
   "name": "python3"
  },
  "language_info": {
   "codemirror_mode": {
    "name": "ipython",
    "version": 3
   },
   "file_extension": ".py",
   "mimetype": "text/x-python",
   "name": "python",
   "nbconvert_exporter": "python",
   "pygments_lexer": "ipython3",
   "version": "3.8.3"
  }
 },
 "nbformat": 4,
 "nbformat_minor": 4
}
