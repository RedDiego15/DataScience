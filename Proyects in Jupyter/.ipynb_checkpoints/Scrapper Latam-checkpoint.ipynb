{
 "cells": [
  {
   "cell_type": "code",
   "execution_count": 1,
   "metadata": {},
   "outputs": [],
   "source": [
    "import requests\n",
    "from bs4 import BeautifulSoup\n",
    "from requests.exceptions import HTTPError\n",
    "from urllib3.exceptions import MaxRetryError"
   ]
  },
  {
   "cell_type": "code",
   "execution_count": 2,
   "metadata": {},
   "outputs": [],
   "source": [
    "def visit(url):\n",
    "    try:\n",
    "        response = requests.get(url)\n",
    "        print(\"EL status code: \", response.status_code)\n",
    "        response.raise_for_status()  # arroja si la solicitud no se concluye correctamente\n",
    "        if(response.status_code == 200):\n",
    "            #response.request.header muestra la forma en como hago la solicitud\n",
    "            html = BeautifulSoup(response.text, 'html.parser')\n",
    "            return html\n",
    "    except HTTPError as http_err:\n",
    "        print(f'HTTP error occurred: {http_err}')  # Python 3.6\n",
    "    except MaxRetryError as Max_err:\n",
    "        print(f'HTTP error MaxEntry ocurred: {Max_err}')  # Python 3.6\n",
    "    except Exception as err:\n",
    "        print(f'Other error occurred: {err}')  # Python 3.6\n",
    "    return None"
   ]
  },
  {
   "cell_type": "code",
   "execution_count": 75,
   "metadata": {},
   "outputs": [
    {
     "name": "stdout",
     "output_type": "stream",
     "text": [
      "EL status code:  200\n"
     ]
    }
   ],
   "source": [
    "url = 'https://www.latamairlines.com/ec/es/ofertas-vuelos?dataFlight=%7B%22tripTypeSelected%22%3A%7B%22label%22%3A%22Ida%22%2C%22value%22%3A%22OW%22%7D%2C%22cabinSelected%22%3A%7B%22label%22%3A%22Economy%22%2C%22value%22%3A%22Economy%22%7D%2C%22passengerSelected%22%3A%7B%22adultQuantity%22%3A1%2C%22infantQuantity%22%3A0%2C%22childrenQuantity%22%3A0%7D%2C%22originSelected%22%3A%7B%22airportName%22%3A%22Mariscal%20Sucre%20Int.%22%2C%22countryName%22%3A%22Ecuador%22%2C%22cityName%22%3A%22Quito%22%2C%22airportIataCode%22%3A%22UIO%22%2C%22countryAlpha2%22%3A%22EC%22%7D%2C%22destinationSelected%22%3A%7B%22airportName%22%3A%22Ministro%20Pistarini%20Int.%22%2C%22countryName%22%3A%22Argentina%22%2C%22cityName%22%3A%22Buenos%20Aires%22%2C%22airportIataCode%22%3A%22EZE%22%2C%22countryAlpha2%22%3A%22AR%22%7D%2C%22dateGoSelected%22%3A%222020-10-03T17%3A00%3A00.000Z%22%2C%22dateReturnSelected%22%3Anull%2C%22redemption%22%3Afalse%7D&sort=RECOMMENDED'\n",
    "htm = visit(url)"
   ]
  },
  {
   "cell_type": "code",
   "execution_count": 76,
   "metadata": {},
   "outputs": [],
   "source": [
    "from selenium import webdriver"
   ]
  },
  {
   "cell_type": "code",
   "execution_count": 77,
   "metadata": {},
   "outputs": [],
   "source": [
    "driver = webdriver.Edge(executable_path = 'D:/edgeDriver/msedgedriver')\n",
    "#driver abre otro navegador que podremos ejecutar desde el codigo"
   ]
  },
  {
   "cell_type": "code",
   "execution_count": 78,
   "metadata": {},
   "outputs": [],
   "source": [
    "\"\"\"hacer que el navegador cargue la pagina web\"\"\"\n",
    "driver.get(url)"
   ]
  },
  {
   "cell_type": "code",
   "execution_count": 79,
   "metadata": {},
   "outputs": [
    {
     "name": "stdout",
     "output_type": "stream",
     "text": [
      "5\n"
     ]
    }
   ],
   "source": [
    "vuelos = driver.find_elements_by_xpath('//li[@class=\"sc-jGFFOr jWBHtm\"]')\n",
    "print(len(vuelos))\n"
   ]
  },
  {
   "cell_type": "code",
   "execution_count": 80,
   "metadata": {},
   "outputs": [
    {
     "name": "stdout",
     "output_type": "stream",
     "text": [
      "<selenium.webdriver.remote.webelement.WebElement (session=\"7d68c6905edc4a293b6b9ea0313c0cbb\", element=\"aedd8f51-78f6-4f19-88d6-9cbb33a1cbc0\")>\n",
      "15 h 42 min\n"
     ]
    }
   ],
   "source": [
    "vuelo = vuelos[0]\n",
    "horas = vuelo.find_elements_by_xpath('.//span[@class=\"sc-izvnbC hveHla\"]')\n",
    "#el punto para indicar que solo busque desde donde me encuentro hacia abajo\n",
    "#con las //le digo que la informacion no es un hijo directo de este vuelo\n",
    "\n",
    "horaSalida = horas[0].get_attribute('textContent')\n",
    "horaLLegada = horas[1].get_attribute('textContent')\n",
    "duracion = vuelo.find_element_by_xpath('.//span[@class=\"sc-gMcBNU kUEpCT\"]').get_attribute('textContent')\n",
    "\n",
    "\n",
    "print(botonEscalas)\n",
    "print(duracion)\n",
    "\n",
    "\n"
   ]
  },
  {
   "cell_type": "code",
   "execution_count": 84,
   "metadata": {},
   "outputs": [],
   "source": [
    "botonEscalas = vuelo.find_element_by_xpath('.//a[@id=\"itinerary-modal-0-dialog-open\"]')\n",
    "botonEscalas.click()\n"
   ]
  },
  {
   "cell_type": "code",
   "execution_count": 95,
   "metadata": {},
   "outputs": [],
   "source": [
    "segmentos = vuelo.find_elements_by_xpath('//section[@class=\"sc-kMBllD jaBnqa\"]')\n",
    "escalas = len(segmentos)-1"
   ]
  },
  {
   "cell_type": "code",
   "execution_count": 135,
   "metadata": {},
   "outputs": [
    {
     "name": "stdout",
     "output_type": "stream",
     "text": [
      "LIM\n",
      "2\n",
      "17:56\n"
     ]
    }
   ],
   "source": [
    "segmento = segmentos[0]\n",
    "infoSegmento = getInfoDepartureArrival(segmento)"
   ]
  },
  {
   "cell_type": "code",
   "execution_count": 103,
   "metadata": {},
   "outputs": [],
   "source": [
    "def getInfoDepartureArrival(segmento):\n",
    "    \"\"\"method who add the data at the list for the scale\n",
    "    [departurePlace,arrivalPlace,timeDeparture,timeArrival,duration,timeWaitAirport,flyNumber,airplaneNumber]\"\"\"\n",
    "    info = []\n",
    "    departureData = segmento.find_elements_by_xpath('.//div[@class=\"sc-jgVwMx guTIbo\"]/div[@class=\"iataCode\"]/span')\n",
    "    arrivalData = segmento.find_elements_by_xpath('.//div[@class=\"sc-AUpyg dvLpUb\"]/div[@class=\"iataCode\"]/span')\n",
    "    duration = segmento.find_elements_by_xpath('.//div[@class=\"sc-kWHCRG bZmbtE\"]/span')[1].text\n",
    "    timeWait = segmento.find_element_by_xpath('//div[@class=\"sc-imapFV jQvkv\"]/span').text    \n",
    "    flyNumber = segmento.find_element_by_xpath('.//div[@class=\"sc-dzOgQY cgKyuN airline-wrapper\"]')[0].text\n",
    "    airplaneModel = segmento.find_element_by_xpath('.//span[@class=\"airplane-code\"]').text\n",
    "    \n",
    "    llegada = arrival[0]\n",
    "    \n",
    "    info.append(departure[0])\n",
    "    info.append(llegada)\n",
    "    info.append(departure[1]) #timeDeparture\n",
    "    info.append(arrival[1]) #timeArrival\n",
    "    info.append(duration)\n",
    "    info.append(timeWait)\n",
    "    info.append(flyNumber)\n",
    "    info.append(airplaneModel)\n",
    "    return info\n",
    "        \n",
    "    \n",
    "    "
   ]
  },
  {
   "cell_type": "code",
   "execution_count": null,
   "metadata": {},
   "outputs": [],
   "source": [
    "def addDataScale(info,key,departure,arrival):\n",
    "    \n",
    "    \n",
    "    \n",
    "    \n",
    "    \n",
    "    "
   ]
  }
 ],
 "metadata": {
  "kernelspec": {
   "display_name": "Python 3",
   "language": "python",
   "name": "python3"
  },
  "language_info": {
   "codemirror_mode": {
    "name": "ipython",
    "version": 3
   },
   "file_extension": ".py",
   "mimetype": "text/x-python",
   "name": "python",
   "nbconvert_exporter": "python",
   "pygments_lexer": "ipython3",
   "version": "3.8.3"
  }
 },
 "nbformat": 4,
 "nbformat_minor": 4
}
